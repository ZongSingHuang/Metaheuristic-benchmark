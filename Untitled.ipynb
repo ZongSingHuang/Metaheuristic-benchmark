{
 "cells": [
  {
   "cell_type": "markdown",
   "id": "d29f7e81",
   "metadata": {},
   "source": [
    "# 01. Sphere"
   ]
  },
  {
   "cell_type": "markdown",
   "id": "a66a3569",
   "metadata": {},
   "source": [
    "$$\n",
    "\\sum_{i=1}^D{x_{i}^{2}}\n",
    "$$"
   ]
  },
  {
   "cell_type": "markdown",
   "id": "13bed719",
   "metadata": {},
   "source": [
    "$$\n",
    "-100\\leqslant x_i\\leqslant 100\n",
    "\\\\\n",
    "F^*=0\n",
    "\\\\\n",
    "X^*=\\left[ \\begin{matrix}\n",
    "\t0&\t\t0&\t\t\\cdots&\t\t0\\\\\n",
    "\\end{matrix} \\right] \n",
    "$$"
   ]
  },
  {
   "cell_type": "markdown",
   "id": "9b92b507",
   "metadata": {},
   "source": [
    "# 02. Rastrigin"
   ]
  },
  {
   "cell_type": "markdown",
   "id": "7cca4e57",
   "metadata": {},
   "source": [
    "$$\n",
    "\\sum_{i=1}^D{\\left[ x_{i}^{2}-10\\cos \\left( 2\\pi x_i \\right) +10 \\right]}\n",
    "$$"
   ]
  },
  {
   "cell_type": "markdown",
   "id": "3943ecec",
   "metadata": {},
   "source": [
    "$$\n",
    "-5.12\\leqslant x_i\\leqslant 5.12\n",
    "\\\\\n",
    "F^*=0\n",
    "\\\\\n",
    "X^*=\\left[ \\begin{matrix}\n",
    "\t0&\t\t0&\t\t\\cdots&\t\t0\\\\\n",
    "\\end{matrix} \\right] \n",
    "$$"
   ]
  },
  {
   "cell_type": "markdown",
   "id": "a53d7244",
   "metadata": {},
   "source": [
    "# 03. Ackley"
   ]
  },
  {
   "cell_type": "markdown",
   "id": "8723e725",
   "metadata": {},
   "source": [
    "$$\n",
    "-20\\exp \\left( -0.2\\sqrt{\\frac{1}{D}\\sum_{i=1}^D{x_{i}^{2}}} \\right) -\\exp \\left( \\frac{1}{D}\\sum_{i=1}^D{\\cos \\left( 2\\pi x_i \\right)} \\right) +20+e\n",
    "$$"
   ]
  },
  {
   "cell_type": "markdown",
   "id": "5593d063",
   "metadata": {},
   "source": [
    "$$\n",
    "-32\\leqslant x_i\\leqslant 32\n",
    "\\\\\n",
    "F^*=0\n",
    "\\\\\n",
    "X^*=\\left[ \\begin{matrix}\n",
    "\t0&\t\t0&\t\t\\cdots&\t\t0\\\\\n",
    "\\end{matrix} \\right] \n",
    "$$"
   ]
  },
  {
   "cell_type": "markdown",
   "id": "f467fc04",
   "metadata": {},
   "source": [
    "# 04. Griewank"
   ]
  },
  {
   "cell_type": "markdown",
   "id": "fd1caef1",
   "metadata": {},
   "source": [
    "$$\n",
    "\\frac{1}{4000}\\sum_{i=1}^D{x_{i}^{2}}-\\prod_{i=1}^D{\\left[ \\cos \\left( \\frac{x_i}{\\sqrt{i}} \\right) \\right]}+1\n",
    "$$"
   ]
  },
  {
   "cell_type": "markdown",
   "id": "3672fe61",
   "metadata": {},
   "source": [
    "$$\n",
    "-600\\leqslant x_i\\leqslant 600\n",
    "\\\\\n",
    "F^*=0\n",
    "\\\\\n",
    "X^*=\\left[ \\begin{matrix}\n",
    "\t0&\t\t0&\t\t\\cdots&\t\t0\\\\\n",
    "\\end{matrix} \\right] \n",
    "$$\n"
   ]
  },
  {
   "cell_type": "markdown",
   "id": "991bc03e",
   "metadata": {},
   "source": [
    "# 05. Schwefel P2.22"
   ]
  },
  {
   "cell_type": "markdown",
   "id": "9fe2b16c",
   "metadata": {},
   "source": [
    "$$\n",
    "\\sum_{i=1}^D{\\left| x_i \\right|}+\\prod_{i=1}^D{\\left| x_i \\right|}\n",
    "$$"
   ]
  },
  {
   "cell_type": "markdown",
   "id": "b760d577",
   "metadata": {},
   "source": [
    "$$\n",
    "-10\\leqslant x_i\\leqslant 10\n",
    "\\\\\n",
    "F^*=0\n",
    "\\\\\n",
    "X^*=\\left[ \\begin{matrix}\n",
    "\t0&\t\t0&\t\t\\cdots&\t\t0\\\\\n",
    "\\end{matrix} \\right] \n",
    "$$"
   ]
  },
  {
   "cell_type": "markdown",
   "id": "778c9cb8",
   "metadata": {},
   "source": [
    "# 06. Rosenbrock"
   ]
  },
  {
   "cell_type": "markdown",
   "id": "3d8625c9",
   "metadata": {},
   "source": [
    "$$\n",
    "\\sum_{i=1}^{D-1}{\\left[ 100\\left( x_{i+1}-x_{i}^{2} \\right) ^2+\\left( x_i-1 \\right) ^2 \\right]}\n",
    "$$"
   ]
  },
  {
   "cell_type": "markdown",
   "id": "0cd74e97",
   "metadata": {},
   "source": [
    "$$\n",
    "-30\\leqslant x_i\\leqslant 30\n",
    "\\\\\n",
    "F^*=0\n",
    "\\\\\n",
    "X^*=\\left[ \\begin{matrix}\n",
    "\t1&\t\t1&\t\t\\cdots&\t\t1\\\\\n",
    "\\end{matrix} \\right] \n",
    "$$"
   ]
  },
  {
   "cell_type": "markdown",
   "id": "8663a512",
   "metadata": {},
   "source": [
    "# 07. Sehwwefel P2.21"
   ]
  },
  {
   "cell_type": "markdown",
   "id": "059ccf62",
   "metadata": {},
   "source": [
    "$$\n",
    "\\underset{1\\leqslant i\\leqslant D}{\\max}\\left| x_i \\right|\n",
    "$$"
   ]
  },
  {
   "cell_type": "markdown",
   "id": "0cd55c6f",
   "metadata": {},
   "source": [
    "$$\n",
    "-100\\leqslant x_i\\leqslant 100\n",
    "\\\\\n",
    "F^*=0\n",
    "\\\\\n",
    "X^*=\\left[ \\begin{matrix}\n",
    "\t0&\t\t0&\t\t\\cdots&\t\t0\\\\\n",
    "\\end{matrix} \\right] \n",
    "$$"
   ]
  },
  {
   "cell_type": "markdown",
   "id": "6e6fde88",
   "metadata": {},
   "source": [
    "# 08. Quartic (De-Jong)"
   ]
  },
  {
   "cell_type": "markdown",
   "id": "214b30e5",
   "metadata": {},
   "source": [
    "$$\n",
    "\\sum_{i=1}^D{\\left( ix_{i}^{4} \\right)}+random\\left[ 0,1 \\right) \n",
    "$$"
   ]
  },
  {
   "cell_type": "markdown",
   "id": "b335214a",
   "metadata": {},
   "source": [
    "$$\n",
    "-1.28\\leqslant x_i\\leqslant 1.28\n",
    "\\\\\n",
    "F^*=0\n",
    "\\\\\n",
    "X^*=\\left[ \\begin{matrix}\n",
    "\t0&\t\t0&\t\t\\cdots&\t\t0\\\\\n",
    "\\end{matrix} \\right] \n",
    "$$"
   ]
  },
  {
   "cell_type": "markdown",
   "id": "059da25b",
   "metadata": {},
   "source": [
    "# 09. Schwefel P1.2"
   ]
  },
  {
   "cell_type": "markdown",
   "id": "e79b119e",
   "metadata": {},
   "source": [
    "$$\n",
    "\\sum_{i=1}^D{\\left( \\sum_{j=1}^i{x_j} \\right) ^2}\n",
    "$$"
   ]
  },
  {
   "cell_type": "markdown",
   "id": "9a3c81b5",
   "metadata": {},
   "source": [
    "$$\n",
    "-100\\leqslant x_i\\leqslant 100\n",
    "\\\\\n",
    "F^*=0\n",
    "\\\\\n",
    "X^*=\\left[ \\begin{matrix}\n",
    "\t0&\t\t0&\t\t\\cdots&\t\t0\\\\\n",
    "\\end{matrix} \\right] \n",
    "$$"
   ]
  },
  {
   "cell_type": "markdown",
   "id": "c10b53f8",
   "metadata": {},
   "source": [
    "# 10. Penalized 1"
   ]
  },
  {
   "cell_type": "markdown",
   "id": "756c0458",
   "metadata": {},
   "source": [
    "$$\n",
    "\\frac{\\pi}{D}\\left\\{ 10\\sin ^2\\left( \\pi y_1 \\right) +\\sum_{i=1}^{D-1}{\\left( y_i-1 \\right) ^2\\left[ 1+10\\sin ^2\\left( \\pi y_{i+1} \\right) \\right]}+\\left( y_D-1 \\right) ^2 \\right\\} +\\sum_{i=1}^D{u\\left( x_i,10,100,4 \\right)}\n",
    "\\\\\n",
    "y_i=1+\\frac{1}{4}\\left( x_i+1 \\right) , u\\left( x_i,a,k,m \\right) =\\begin{cases}\n",
    "\tk\\left( x_i-a \\right) ^m&\t\tx_i>a\\\\\n",
    "\t0&\t\t-a\\leqslant x_i\\leqslant a\\\\\n",
    "\tk\\left( -x_i-a \\right) ^m&\t\tx_i<-a\\\\\n",
    "\\end{cases}\n",
    "$$"
   ]
  },
  {
   "cell_type": "markdown",
   "id": "34858a01",
   "metadata": {},
   "source": [
    "$$\n",
    "-50\\leqslant x_i\\leqslant 50\n",
    "\\\\\n",
    "F^*=0\n",
    "\\\\\n",
    "X^*=\\left[ \\begin{matrix}\n",
    "\t-1&\t\t-1&\t\t\\cdots&\t\t-1\\\\\n",
    "\\end{matrix} \\right] \n",
    "$$"
   ]
  },
  {
   "cell_type": "markdown",
   "id": "1e799a3e",
   "metadata": {},
   "source": [
    "# 11. Penalized 2"
   ]
  },
  {
   "cell_type": "markdown",
   "id": "2db870cb",
   "metadata": {},
   "source": [
    "$$\n",
    "0.1\\left\\{ \\sin ^2\\left( 3\\pi x_1 \\right) +\\sum_{i=1}^{D-1}{\\left( x_i-1 \\right) ^2\\left[ 1+\\sin ^2\\left( 3\\pi x_{i+1} \\right) \\right]}+\\left( x_D-1 \\right) ^2\\left[ 1+\\sin ^2\\left( 2\\pi x_D \\right) \\right] \\right\\} +\\sum_{i=1}^D{u\\left( x_i,5,100,4 \\right)}\n",
    "\\\\\n",
    "u\\left( x_i,a,k,m \\right) =\\begin{cases}\n",
    "\tk\\left( x_i-a \\right) ^m&\t\tx_i>a\\\\\n",
    "\t0&\t\t-a\\leqslant x_i\\leqslant a\\\\\n",
    "\tk\\left( -x_i-a \\right) ^m&\t\tx_i<-a\\\\\n",
    "\\end{cases}\n",
    "$$"
   ]
  },
  {
   "cell_type": "markdown",
   "id": "619a7c02",
   "metadata": {},
   "source": [
    "$$\n",
    "-50\\leqslant x_i\\leqslant 50\n",
    "\\\\\n",
    "F^*=0\n",
    "\\\\\n",
    "X^*=\\left[ \\begin{matrix}\n",
    "\t1&\t\t1&\t\t\\cdots&\t\t1\\\\\n",
    "\\end{matrix} \\right] \n",
    "$$"
   ]
  },
  {
   "cell_type": "markdown",
   "id": "87b63930",
   "metadata": {},
   "source": [
    "# 12. Schwefel  P2.26"
   ]
  },
  {
   "cell_type": "markdown",
   "id": "b19b74af",
   "metadata": {},
   "source": [
    "$$\n",
    "-\\sum_{i=1}^D{x_i\\sin \\left( \\sqrt{x_i} \\right)}\n",
    "$$"
   ]
  },
  {
   "cell_type": "markdown",
   "id": "48eb274b",
   "metadata": {},
   "source": [
    "$$\n",
    "-500\\leqslant x_i\\leqslant 500\n",
    "\\\\\n",
    "F^*=-418.982887272433799807913601398D\n",
    "\\\\\n",
    "X^*=\\left[ \\begin{matrix}\n",
    "\t420.968746&\t\t420.968746&\t\t\\cdots&\t\t420.968746\\\\\n",
    "\\end{matrix} \\right] \n",
    "$$"
   ]
  },
  {
   "cell_type": "markdown",
   "id": "6a212342",
   "metadata": {},
   "source": [
    "# 13. Step"
   ]
  },
  {
   "cell_type": "markdown",
   "id": "f019196c",
   "metadata": {},
   "source": [
    "$$\n",
    "\\sum_{i=1}^D{\\left( \\lfloor x_i+0.5 \\rfloor \\right) ^2}\n",
    "$$"
   ]
  },
  {
   "cell_type": "markdown",
   "id": "7e1b13a8",
   "metadata": {},
   "source": [
    "$$\n",
    "-100\\leqslant x_i\\leqslant 100\n",
    "\\\\\n",
    "F^*=0\n",
    "\\\\\n",
    "X^*=\\left[ \\begin{matrix}\n",
    "\t0&\t\t0&\t\t\\cdots&\t\t0\\\\\n",
    "\\end{matrix} \\right] \n",
    "$$"
   ]
  },
  {
   "cell_type": "markdown",
   "id": "e960f37f",
   "metadata": {},
   "source": [
    "# 14. Kowalik"
   ]
  },
  {
   "cell_type": "markdown",
   "id": "7fc77453",
   "metadata": {},
   "source": [
    "$$\n",
    "\\sum_{i=11}^{11}{\\left[ a_i-\\frac{x_1\\left( b_{i}^{2}+b_ix_2 \\right)}{b_{i}^{2}+b_ix_3+x_4} \\right] ^2}\n",
    "\\\\\n",
    "a=\\left[ \\begin{matrix}\n",
    "\t4&\t\t2&\t\t1&\t\t\\frac{1}{2}&\t\t\\frac{1}{4}&\t\t\\frac{1}{6}&\t\t\\frac{1}{8}&\t\t\\frac{1}{10}&\t\t\\frac{1}{12}&\t\t\\frac{1}{14}&\t\t\\frac{1}{16}\\\\\n",
    "\\end{matrix} \\right] \n",
    "\\\\\n",
    "b=\\left[ \\begin{matrix}\n",
    "\t0.1957&\t\t0.1947&\t\t0.1735&\t\t0.1600&\t\t0.0844&\t\t0.0627&\t\t0.0456&\t\t0.0342&\t\t0.0323&\t\t0.0235&\t\t0.0246\\\\\n",
    "\\end{matrix} \\right] \n",
    "$$"
   ]
  },
  {
   "cell_type": "markdown",
   "id": "7e0fbbe6",
   "metadata": {},
   "source": [
    "$$\n",
    "-5\\leqslant x_i\\leqslant 5, D=4\n",
    "\\\\\n",
    "F^*=0.00030748610\n",
    "\\\\\n",
    "X^*=\\left[ \\begin{matrix}\n",
    "\t0.192833&\t\t0.190836&\t\t0.123117&\t\t0.135766\\\\\n",
    "\\end{matrix} \\right] \n",
    "$$\n"
   ]
  },
  {
   "cell_type": "markdown",
   "id": "b60594ad",
   "metadata": {},
   "source": [
    "# 15. Shekel's Foxholes"
   ]
  },
  {
   "cell_type": "markdown",
   "id": "d51af060",
   "metadata": {},
   "source": [
    "$$\n",
    "\\left( \\frac{1}{500}+\\sum_{j=1}^{25}{\\frac{1}{j+\\sum_{i=1}^2{\\left( x_i-a_{ij} \\right) ^6}}} \\right) ^{-1}\n",
    "\\\\\n",
    "a_{ij}=\\left[ \\begin{matrix}\n",
    "\t-32&\t\t-16&\t\t0&\t\t16&\t\t32&\t\t-32&\t\t-16&\t\t0&\t\t16&\t\t32&\t\t-32&\t\t-16&\t\t0&\t\t16&\t\t\\cdots&\t\t32\\\\\n",
    "\t-32&\t\t-32&\t\t-32&\t\t-32&\t\t-32&\t\t-16&\t\t-16&\t\t-16&\t\t-16&\t\t-16&\t\t0&\t\t0&\t\t0&\t\t0&\t\t\\cdots&\t\t32\\\\\n",
    "\\end{matrix} \\right] \n",
    "$$"
   ]
  },
  {
   "cell_type": "markdown",
   "id": "6540d31d",
   "metadata": {},
   "source": [
    "$$\n",
    "-65.536\\leqslant x_i\\leqslant 65.536\n",
    "\\\\\n",
    "F^*=0.998003837794449325873406851315\n",
    "\\\\\n",
    "X^*=\\left[ \\begin{matrix}\n",
    "\t-31.97833&\t\t-31.97833&\t\t\\cdots&\t\t-31.97833\\\\\n",
    "\\end{matrix} \\right] \n",
    "$$"
   ]
  },
  {
   "cell_type": "markdown",
   "id": "2a572baa",
   "metadata": {},
   "source": [
    "# 16. Goldstein-Price"
   ]
  },
  {
   "cell_type": "markdown",
   "id": "56d5b036",
   "metadata": {},
   "source": [
    "$$\n",
    "\\left[ 1+\\left( x_1+x_2+1 \\right) ^2\\left( 19-14x_1+3x_{1}^{2}-14x_2+6x_1x_2+3x_{2}^{2} \\right) \\right] \\times \\left[ 30+\\left( 2x_1-3x_2 \\right) ^2\\left( 18-32x_1+12x_{1}^{2}+48x_2-36x_1x_2+27x_{2}^{2} \\right) \\right] \n",
    "$$"
   ]
  },
  {
   "cell_type": "markdown",
   "id": "ab321476",
   "metadata": {},
   "source": [
    "$$\n",
    "-2\\leqslant x_i\\leqslant 2\n",
    "\\\\\n",
    "F^*=3\n",
    "\\\\\n",
    "X^*=\\left[ \\begin{matrix}\n",
    "\t0&\t\t-1\\\\\n",
    "\\end{matrix} \\right] \n",
    "$$"
   ]
  },
  {
   "cell_type": "markdown",
   "id": "a5f4fd1b",
   "metadata": {},
   "source": [
    "# 17. Shekel 5"
   ]
  },
  {
   "cell_type": "markdown",
   "id": "f4960a5b",
   "metadata": {},
   "source": [
    "$$\n",
    "-\\sum_{i=1}^m{\\frac{1}{c_i+\\sum_j^D{\\left( x_j-a_{ij} \\right) ^2}}}, m=5, a=\\left[ \\begin{matrix}{l}\n",
    "\t4.0&\t\t4.0&\t\t4.0&\t\t4.0\\\\\n",
    "\t1.0&\t\t1.0&\t\t1.0&\t\t1.0\\\\\n",
    "\t8.0&\t\t8.0&\t\t8.0&\t\t8.0\\\\\n",
    "\t6.0&\t\t6.0&\t\t6.0&\t\t6.0\\\\\n",
    "\t3.0&\t\t7.0&\t\t3.0&\t\t7.0\\\\\n",
    "\\end{matrix} \\right] , c=\\left[ \\begin{matrix}\n",
    "\t0.1&\t\t0.2&\t\t0.2&\t\t0.4&\t\t0.6\\\\\n",
    "\\end{matrix} \\right] \n",
    "$$"
   ]
  },
  {
   "cell_type": "markdown",
   "id": "b42dd899",
   "metadata": {},
   "source": [
    "$$\n",
    "0\\leqslant x_i\\leqslant 10, D=4\n",
    "\\\\\n",
    "F^*=-10.1527\n",
    "\\\\\n",
    "X^*=\\left[ \\begin{matrix}\n",
    "\t4&\t\t4&\t\t4&\t\t4\\\\\n",
    "\\end{matrix} \\right] \n",
    "$$"
   ]
  },
  {
   "cell_type": "markdown",
   "id": "232f6a25",
   "metadata": {},
   "source": [
    "# 18. Branin"
   ]
  },
  {
   "cell_type": "markdown",
   "id": "04e12fec",
   "metadata": {},
   "source": [
    "$$\n",
    "\\left( x_2-\\frac{5.1x_{1}^{2}}{4\\pi ^2}+\\frac{5x_1}{\\pi}-6 \\right) ^2+10\\left( 1-\\frac{1}{8\\pi} \\right) \\cos \\left( x_1 \\right) +10\n",
    "$$"
   ]
  },
  {
   "cell_type": "markdown",
   "id": "a08ddb2b",
   "metadata": {},
   "source": [
    "$$\n",
    "-5\\leqslant x_1\\leqslant 10, 0\\leqslant x_2\\leqslant 15, D=2\n",
    "\\\\\n",
    "F^*=0.39788735772973816\n",
    "\\\\\n",
    "X^*=\\left[ \\begin{matrix}\n",
    "\t-\\pi&\t\t12.275\\\\\n",
    "\\end{matrix} \\right] , \\left[ \\begin{matrix}\n",
    "\t\\pi&\t\t2.275\\\\\n",
    "\\end{matrix} \\right] , \\left[ \\begin{matrix}\n",
    "\t9.42478&\t\t2.475\\\\\n",
    "\\end{matrix} \\right] \n",
    "$$"
   ]
  },
  {
   "cell_type": "markdown",
   "id": "2864896a",
   "metadata": {},
   "source": [
    "# 19. Hartmann 3"
   ]
  },
  {
   "cell_type": "markdown",
   "id": "653f7e8a",
   "metadata": {},
   "source": [
    "$$\n",
    "-\\sum_{i=1}^m{c_i\\exp \\left( -\\sum_{j=1}^n{a_{ij}\\left( x_j-p_{ij} \\right) ^2} \\right)}, m=4, n=3, a=\\left[ \\begin{matrix}\n",
    "\t3.0&\t\t10&\t\t30\\\\\n",
    "\t0.1&\t\t10&\t\t35\\\\\n",
    "\t3.0&\t\t10&\t\t30\\\\\n",
    "\t0.1&\t\t10&\t\t35\\\\\n",
    "\\end{matrix} \\right] , c=\\left[ \\begin{matrix}\n",
    "\t1.0&\t\t1.2&\t\t3.0&\t\t3.2\\\\\n",
    "\\end{matrix} \\right] , p=\\left[ \\begin{matrix}\n",
    "\t0.36890&\t\t0.1170&\t\t0.2673\\\\\n",
    "\t0.46990&\t\t0.4387&\t\t0.7470\\\\\n",
    "\t0.10910&\t\t0.8732&\t\t0.5547\\\\\n",
    "\t0.03815&\t\t0.5743&\t\t0.8828\\\\\n",
    "\\end{matrix} \\right] \n",
    "$$"
   ]
  },
  {
   "cell_type": "markdown",
   "id": "843bad24",
   "metadata": {},
   "source": [
    "$$\n",
    "0\\leqslant X\\leqslant 1, D=3\n",
    "\\\\\n",
    "F^*=-3.86278214782076\n",
    "\\\\\n",
    "X^*=\\left[ \\begin{matrix}\n",
    "\t0.1&\t\t0.55592003&\t\t0.85218259\\\\\n",
    "\\end{matrix} \\right] \n",
    "$$"
   ]
  },
  {
   "cell_type": "markdown",
   "id": "150ea544",
   "metadata": {},
   "source": [
    "# 20. Shekel 7"
   ]
  },
  {
   "cell_type": "markdown",
   "id": "2d36f1dc",
   "metadata": {},
   "source": [
    "$$\n",
    "-\\sum_{i=1}^m{\\frac{1}{c_i+\\sum_j^D{\\left( x_j-a_{ij} \\right) ^2}}}, m=7, a=\\left[ \\begin{matrix}\n",
    "\t4.0&\t\t4.0&\t\t4.0&\t\t4.0\\\\\n",
    "\t1.0&\t\t1.0&\t\t1.0&\t\t1.0\\\\\n",
    "\t8.0&\t\t8.0&\t\t8.0&\t\t8.0\\\\\n",
    "\t6.0&\t\t6.0&\t\t6.0&\t\t6.0\\\\\n",
    "\t3.0&\t\t7.0&\t\t3.0&\t\t7.0\\\\\n",
    "\t2.0&\t\t9.0&\t\t2.0&\t\t9.0\\\\\n",
    "\t5.0&\t\t5.0&\t\t3.0&\t\t3.0\\\\\n",
    "\\end{matrix} \\right] , c=\\left[ \\begin{matrix}\n",
    "\t0.1&\t\t0.2&\t\t0.2&\t\t0.4&\t\t0.4&\t\t0.6&\t\t0.3\\\\\n",
    "\\end{matrix} \\right] \n",
    "$$"
   ]
  },
  {
   "cell_type": "markdown",
   "id": "a3450380",
   "metadata": {},
   "source": [
    "$$\n",
    "0\\leqslant X\\leqslant 10, D=4\n",
    "\\\\\n",
    "F^*=-10.3999\n",
    "\\\\\n",
    "X^*=\\left[ \\begin{matrix}\n",
    "\t4&\t\t4&\t\t4&\t\t4\\\\\n",
    "\\end{matrix} \\right] \n",
    "$$"
   ]
  },
  {
   "cell_type": "markdown",
   "id": "9679f3ef",
   "metadata": {},
   "source": [
    "# 21. Shekel 10"
   ]
  },
  {
   "cell_type": "markdown",
   "id": "1c3abe0d",
   "metadata": {},
   "source": [
    "$$\n",
    "-\\sum_{i=1}^m{\\frac{1}{c_i+\\sum_j^D{\\left( x_j-a_{ij} \\right) ^2}}}, m=10, a=\\left[ \\begin{matrix}\n",
    "\t4.0&\t\t4.0&\t\t4.0&\t\t4.0\\\\\n",
    "\t1.0&\t\t1.0&\t\t1.0&\t\t1.0\\\\\n",
    "\t8.0&\t\t8.0&\t\t8.0&\t\t8.0\\\\\n",
    "\t6.0&\t\t6.0&\t\t6.0&\t\t6.0\\\\\n",
    "\t3.0&\t\t7.0&\t\t3.0&\t\t7.0\\\\\n",
    "\t2.0&\t\t9.0&\t\t2.0&\t\t9.0\\\\\n",
    "\t5.0&\t\t5.0&\t\t3.0&\t\t3.0\\\\\n",
    "\t8.0&\t\t1.0&\t\t8.0&\t\t1.0\\\\\n",
    "\t6.0&\t\t2.0&\t\t6.0&\t\t2.0\\\\\n",
    "\t7.0&\t\t3.6&\t\t7.0&\t\t3.6\\\\\n",
    "\\end{matrix} \\right] , c=\\left[ \\begin{matrix}\n",
    "\t0.1&\t\t0.2&\t\t0.2&\t\t0.4&\t\t0.4&\t\t0.6&\t\t0.3&\t\t0.7&\t\t0.5&\t\t0.5\\\\\n",
    "\\end{matrix} \\right] \n",
    "$$"
   ]
  },
  {
   "cell_type": "markdown",
   "id": "f3b4486c",
   "metadata": {},
   "source": [
    "$$\n",
    "0\\leqslant X\\leqslant 10, D=4\n",
    "\\\\\n",
    "F^*=-10.5319\n",
    "\\\\\n",
    "X^*=\\left[ \\begin{matrix}\n",
    "\t4&\t\t4&\t\t4&\t\t4\\\\\n",
    "\\end{matrix} \\right] \n",
    "$$"
   ]
  },
  {
   "cell_type": "markdown",
   "id": "03833326",
   "metadata": {},
   "source": [
    "# 22. Six-Hump Camel-Back"
   ]
  },
  {
   "cell_type": "markdown",
   "id": "ce5c227b",
   "metadata": {},
   "source": [
    "$$\n",
    "4x_{1}^{2}-2.1x_{1}^{4}+\\frac{1}{3}x_{1}^{6}+x_1x_2-4x_{2}^{2}+4x_{2}^{4}\n",
    "$$"
   ]
  },
  {
   "cell_type": "markdown",
   "id": "2c9eb629",
   "metadata": {},
   "source": [
    "$$\n",
    "-5\\leqslant X\\leqslant 5, D=2\n",
    "\\\\\n",
    "F^*=-1.031628453489877\n",
    "\\\\\n",
    "X^*=\\left[ \\begin{matrix}\n",
    "\t-0.08984201368301331&\t\t0.7126564032704135\\\\\n",
    "\\end{matrix} \\right] , \\left[ \\begin{matrix}\n",
    "\t0.08984201368301331&\t\t-0.7126564032704135\\\\\n",
    "\\end{matrix} \\right] \n",
    "$$"
   ]
  },
  {
   "cell_type": "markdown",
   "id": "198b8f09",
   "metadata": {},
   "source": [
    "# 23. Hartmann 6"
   ]
  },
  {
   "cell_type": "markdown",
   "id": "17f3e350",
   "metadata": {},
   "source": [
    "$$\n",
    "-\\sum_{i=1}^m{c_i\\exp \\left( -\\sum_{j=1}^n{a_{ij}\\left( x_j-p_{ij} \\right) ^2} \\right)}, m=4, n=6, c=\\left[ \\begin{matrix}\n",
    "\t1.0&\t\t1.2&\t\t3.0&\t\t3.2\\\\\n",
    "\\end{matrix} \\right] \n",
    "\\\\\n",
    "a=\\left[ \\begin{matrix}\n",
    "\t10.0&\t\t3.00&\t\t17.0&\t\t3.50&\t\t1.70&\t\t8.00\\\\\n",
    "\t0.05&\t\t10.0&\t\t17.0&\t\t0.10&\t\t8.00&\t\t14.0\\\\\n",
    "\t3.00&\t\t3.50&\t\t1.70&\t\t10.0&\t\t7.0&\t\t8.00\\\\\n",
    "\t17.0&\t\t8.00&\t\t0.05&\t\t10.0&\t\t0.10&\t\t14.0\\\\\n",
    "\\end{matrix} \\right] \n",
    "\\\\\n",
    "p=\\left[ \\begin{matrix}\n",
    "\t0.1312&\t\t0.1696&\t\t0.5569&\t\t0.0124&\t\t0.8283&\t\t0.5886\\\\\n",
    "\t0.2329&\t\t0.4135&\t\t0.8307&\t\t0.3736&\t\t0.1004&\t\t0.9991\\\\\n",
    "\t0.2348&\t\t0.1415&\t\t0.3522&\t\t0.2883&\t\t0.3047&\t\t0.6650\\\\\n",
    "\t0.4047&\t\t0.8828&\t\t0.8732&\t\t0.5743&\t\t0.1091&\t\t0.0381\\\\\n",
    "\\end{matrix} \\right] \n",
    "$$\n"
   ]
  },
  {
   "cell_type": "markdown",
   "id": "82f18735",
   "metadata": {},
   "source": [
    "$$\n",
    "0\\leqslant X\\leqslant 1, D=6\n",
    "\\\\\n",
    "F^*=-3.32236801141551\n",
    "\\\\\n",
    "X^*=\\left[ \\begin{matrix}{l}\n",
    "\t0.20168952&\t\t0.15001069&\t\t0.47687398&\t\t0.27533243&\t\t0.31165162&\t\t0.65730054\\\\\n",
    "\\end{matrix} \\right] \n",
    "$$"
   ]
  },
  {
   "cell_type": "markdown",
   "id": "a63b292f",
   "metadata": {},
   "source": [
    "# 24. Zakharov"
   ]
  },
  {
   "cell_type": "markdown",
   "id": "8a1a6fdd",
   "metadata": {},
   "source": [
    "$$\n",
    "\\sum_{i=1}^D{x_{i}^{2}}+\\left( \\sum_{i=1}^D{0.5ix_i} \\right) ^2+\\left( \\sum_{i=1}^D{0.5ix_i} \\right) ^4\n",
    "$$"
   ]
  },
  {
   "cell_type": "markdown",
   "id": "6aa2fe7f",
   "metadata": {},
   "source": [
    "$$\n",
    "-5\\leqslant X\\leqslant 10\n",
    "\\\\\n",
    "F^*=0\n",
    "\\\\\n",
    "X^*=\\left[ \\begin{matrix}\n",
    "\t0&\t\t0&\t\t\\cdots&\t\t0\\\\\n",
    "\\end{matrix} \\right] \n",
    "$$"
   ]
  },
  {
   "cell_type": "markdown",
   "id": "9dc99d22",
   "metadata": {},
   "source": [
    "# 25. SumSquare (Axis Parallel Hyper Ellipsoid)"
   ]
  },
  {
   "cell_type": "markdown",
   "id": "23ad57f5",
   "metadata": {},
   "source": [
    "$$\n",
    "\\sum_{i=1}^D{ix_{i}^{2}}\n",
    "$$"
   ]
  },
  {
   "cell_type": "markdown",
   "id": "4e5b9144",
   "metadata": {},
   "source": [
    "$$\n",
    "-5.12\\leqslant x_i\\leqslant 5.12\n",
    "\\\\\n",
    "F^*=0\n",
    "\\\\\n",
    "X^*=\\left[ \\begin{matrix}\n",
    "\t0&\t\t0&\t\t\\cdots&\t\t0\\\\\n",
    "\\end{matrix} \\right] \n",
    "$$\n"
   ]
  },
  {
   "cell_type": "markdown",
   "id": "48cff601",
   "metadata": {},
   "source": [
    "# 26. Alpine"
   ]
  },
  {
   "cell_type": "markdown",
   "id": "a133c01c",
   "metadata": {},
   "source": [
    "$$\n",
    "\\sum_{i=1}^D{\\left| x_i\\sin \\left( x_i \\right) +0.1x_i \\right|}\n",
    "$$"
   ]
  },
  {
   "cell_type": "markdown",
   "id": "6024ab6f",
   "metadata": {},
   "source": [
    "$$\n",
    "-10\\leqslant X\\leqslant 10\n",
    "\\\\\n",
    "F^*=0\n",
    "\\\\\n",
    "X^*=\\left[ \\begin{matrix}\n",
    "\t0&\t\t0&\t\t\\cdots&\t\t0\\\\\n",
    "\\end{matrix} \\right] \n",
    "$$"
   ]
  },
  {
   "cell_type": "markdown",
   "id": "7a474208",
   "metadata": {},
   "source": [
    "# 27. Michalewicz"
   ]
  },
  {
   "cell_type": "markdown",
   "id": "232addb8",
   "metadata": {},
   "source": [
    "$$\n",
    "-\\sum_{i=1}^D{\\left\\{ \\sin \\left( x_i \\right) \\left[ \\sin \\left( \\frac{ix_{i}^{2}}{\\pi} \\right) \\right] ^{2m} \\right\\}}, m=10\n",
    "$$"
   ]
  },
  {
   "cell_type": "markdown",
   "id": "50035b93",
   "metadata": {},
   "source": [
    "$$\n",
    "0\\leqslant x_i\\leqslant \\pi , D=2\n",
    "\\\\\n",
    "F^*=-0.966D\n",
    "\\\\\n",
    "X^*=\\left[ \\begin{matrix}\n",
    "\t2.20&\t\t1.57\\\\\n",
    "\\end{matrix} \\right] \n",
    "$$"
   ]
  },
  {
   "cell_type": "markdown",
   "id": "067a9a4b",
   "metadata": {},
   "source": [
    "# 28. Exponential"
   ]
  },
  {
   "cell_type": "markdown",
   "id": "b8c15ef1",
   "metadata": {},
   "source": [
    "$$\n",
    "\\exp \\left( -0.5\\sum_{i=1}^D{x_{i}^{2}} \\right) \n",
    "$$"
   ]
  },
  {
   "cell_type": "markdown",
   "id": "844684f5",
   "metadata": {},
   "source": [
    "$$\n",
    "-1\\leqslant X\\leqslant 1\n",
    "\\\\\n",
    "F^*=1\n",
    "\\\\\n",
    "X^*=\\left[ \\begin{matrix}\n",
    "\t0&\t\t0&\t\t\\cdots&\t\t0\\\\\n",
    "\\end{matrix} \\right] \n",
    "$$"
   ]
  },
  {
   "cell_type": "markdown",
   "id": "a98ca844",
   "metadata": {},
   "source": [
    "# 29. Schaffer"
   ]
  },
  {
   "cell_type": "markdown",
   "id": "24831bd2",
   "metadata": {},
   "source": [
    "$$\n",
    "0.5-\\frac{\\sin ^2\\left( \\sqrt{x_{1}^{2}+x_{2}^{2}} \\right) -0.5}{\\left[ 1+0.001\\left( x_{1}^{2}+x_{2}^{2} \\right) \\right] ^2}\n",
    "$$\n"
   ]
  },
  {
   "cell_type": "markdown",
   "id": "1a612e47",
   "metadata": {},
   "source": [
    "$$\n",
    "-100\\leqslant X\\leqslant 100, D=2\n",
    "\\\\\n",
    "F^*=0\n",
    "\\\\\n",
    "X^*=\\left[ \\begin{matrix}\n",
    "\t0&\t\t0\\\\\n",
    "\\end{matrix} \\right] \n",
    "$$"
   ]
  },
  {
   "cell_type": "markdown",
   "id": "8d3c28dc",
   "metadata": {},
   "source": [
    "# 30. Bent Cigar"
   ]
  },
  {
   "cell_type": "markdown",
   "id": "b6844d28",
   "metadata": {},
   "source": [
    "$$\n",
    "x_{1}^{2}+10^6\\sum_{i=2}^D{x_{i}^{2}}\n",
    "$$"
   ]
  },
  {
   "cell_type": "markdown",
   "id": "ba1b91a5",
   "metadata": {},
   "source": [
    "$$\n",
    "-100\\leqslant X\\leqslant 100\n",
    "\\\\\n",
    "F^*=0\n",
    "\\\\\n",
    "X^*=\\left[ \\begin{matrix}\n",
    "\t0&\t\t0&\t\t\\cdots&\t\t0\\\\\n",
    "\\end{matrix} \\right] \n",
    "$$"
   ]
  },
  {
   "cell_type": "markdown",
   "id": "01d3e324",
   "metadata": {},
   "source": [
    "# 31. Bohachevsky 1"
   ]
  },
  {
   "cell_type": "markdown",
   "id": "43d682ba",
   "metadata": {},
   "source": [
    "$$\n",
    "x_{1}^{2}+2x_{2}^{2}-0.3\\cos \\left( 3\\pi x_1 \\right) -\\cos \\left( 4\\pi x_2 \\right) +0.7\n",
    "$$"
   ]
  },
  {
   "cell_type": "markdown",
   "id": "9ea6dcfa",
   "metadata": {},
   "source": [
    "$$\n",
    "-50\\leqslant X\\leqslant 50, D=2\n",
    "\\\\\n",
    "F^*=0\n",
    "\\\\\n",
    "X^*=\\left[ \\begin{matrix}\n",
    "\t0&\t\t0\\\\\n",
    "\\end{matrix} \\right] \n",
    "$$"
   ]
  },
  {
   "cell_type": "markdown",
   "id": "704553d5",
   "metadata": {},
   "source": [
    "# 32. Ellipsoid (Elliptic)"
   ]
  },
  {
   "cell_type": "markdown",
   "id": "ffdd53f0",
   "metadata": {},
   "source": [
    "$$\n",
    "\\sum_{i=1}^D{\\left( 10^6 \\right) ^{\\frac{i-1}{D-1}}x_{i}^{2}}\n",
    "$$"
   ]
  },
  {
   "cell_type": "markdown",
   "id": "e1fd7455",
   "metadata": {},
   "source": [
    "$$\n",
    "-100\\leqslant x_i\\leqslant 100\n",
    "\\\\\n",
    "F^*=0\n",
    "\\\\\n",
    "X^*=\\left[ \\begin{matrix}\n",
    "\t0&\t\t0&\t\t\\cdots&\t\t0\\\\\n",
    "\\end{matrix} \\right] \n",
    "$$"
   ]
  },
  {
   "cell_type": "markdown",
   "id": "197a685e",
   "metadata": {},
   "source": [
    "# 33. Drop wave"
   ]
  },
  {
   "cell_type": "markdown",
   "id": "39066259",
   "metadata": {},
   "source": [
    "$$\n",
    "\\frac{1+\\cos \\left( 12\\sqrt{x_{1}^{2}+x_{2}^{2}} \\right)}{0.5\\left( x_{1}^{2}+x_{2}^{2} \\right) +2}\n",
    "$$"
   ]
  },
  {
   "cell_type": "markdown",
   "id": "1fe429ad",
   "metadata": {},
   "source": [
    "$$\n",
    "-5.12\\leqslant X\\leqslant 5.12, D=2\n",
    "\\\\\n",
    "F^*=-1\n",
    "\\\\\n",
    "X^*=\\left[ \\begin{matrix}\n",
    "\t0&\t\t0\\\\\n",
    "\\end{matrix} \\right] \n",
    "$$"
   ]
  },
  {
   "cell_type": "markdown",
   "id": "728a95fd",
   "metadata": {},
   "source": [
    "# 34. Cosine Mixture"
   ]
  },
  {
   "cell_type": "markdown",
   "id": "bf7c2bda",
   "metadata": {},
   "source": [
    "$$\n",
    "0.1\\sum_{i=1}^D{\\cos \\left( 5\\pi x_i \\right)}-\\sum_{i=1}^D{x_{i}^{2}}\n",
    "$$"
   ]
  },
  {
   "cell_type": "markdown",
   "id": "168b0ffb",
   "metadata": {},
   "source": [
    "$$\n",
    "-1\\leqslant X\\leqslant 1\n",
    "\\\\\n",
    "F^*=0.1D\n",
    "\\\\\n",
    "X^*=\\left[ \\begin{matrix}\n",
    "\t0&\t\t0&\t\t\\cdots&\t\t0\\\\\n",
    "\\end{matrix} \\right] \n",
    "$$"
   ]
  },
  {
   "cell_type": "markdown",
   "id": "e799d72b",
   "metadata": {},
   "source": [
    "# 35. Ellipsoidal"
   ]
  },
  {
   "cell_type": "markdown",
   "id": "f04c50c4",
   "metadata": {},
   "source": [
    "$$\n",
    "\\sum_{i=1}^D{\\left( x_i-i \\right) ^2}\n",
    "$$"
   ]
  },
  {
   "cell_type": "markdown",
   "id": "15af0b50",
   "metadata": {},
   "source": [
    "$$\n",
    "-D\\leqslant x_i\\leqslant D\n",
    "\\\\\n",
    "F^*=0\n",
    "\\\\\n",
    "X^*=\\left[ \\begin{matrix}\n",
    "\t1&\t\t2&\t\t\\cdots&\t\tD\\\\\n",
    "\\end{matrix} \\right] \n",
    "$$"
   ]
  },
  {
   "cell_type": "markdown",
   "id": "e8d30c9c",
   "metadata": {},
   "source": [
    "# 36. Levy and Montalvo 2"
   ]
  },
  {
   "cell_type": "markdown",
   "id": "0cd35108",
   "metadata": {},
   "source": [
    "$$\n",
    "\\frac{\\pi}{D}\\left[ 10\\sin ^2\\left( \\pi y_1 \\right) +\\sum_{i=1}^{D-1}{\\left( y_i-1 \\right) ^2\\left[ 1+10\\sin ^2\\left( \\pi y_{i+1} \\right) \\right]}+\\left( y_D-1 \\right) ^2 \\right] , y_i=1+\\frac{1}{4}\\left( x_i+1 \\right) \n",
    "$$"
   ]
  },
  {
   "cell_type": "markdown",
   "id": "b93e5fce",
   "metadata": {},
   "source": [
    "$$\n",
    "-10\\leqslant X\\leqslant 10\n",
    "\\\\\n",
    "F^*=0\n",
    "\\\\\n",
    "X^*=\\left[ \\begin{matrix}\n",
    "\t-1&\t\t-1&\t\t\\cdots&\t\t-1\\\\\n",
    "\\end{matrix} \\right] \n",
    "$$"
   ]
  },
  {
   "cell_type": "markdown",
   "id": "21d22ea5",
   "metadata": {},
   "source": [
    "# 37. Easom"
   ]
  },
  {
   "cell_type": "markdown",
   "id": "7f6287e2",
   "metadata": {},
   "source": [
    "$$\n",
    "-\\cos \\left( x_1 \\right) \\cos \\left( x_2 \\right) \\exp \\left[ -\\left( x_1-\\pi \\right) ^2-\\left( x_2-\\pi \\right) ^2 \\right] \n",
    "$$"
   ]
  },
  {
   "cell_type": "markdown",
   "id": "7b2cbd7f",
   "metadata": {},
   "source": [
    "$$\n",
    "-10\\leqslant X\\leqslant 10,D=2\n",
    "\\\\\n",
    "F^*=-1\n",
    "\\\\\n",
    "X^*=\\left[ \\begin{matrix}\n",
    "\t\\pi&\t\t\\pi\\\\\n",
    "\\end{matrix} \\right] \n",
    "$$"
   ]
  },
  {
   "cell_type": "markdown",
   "id": "09545398",
   "metadata": {},
   "source": [
    "# 38. Powell sum (Sum of different power)"
   ]
  },
  {
   "cell_type": "markdown",
   "id": "14f2ccaf",
   "metadata": {},
   "source": [
    "$$\n",
    "\\sum_{i=1}^D{\\left| x_i \\right|^{i+1}}\n",
    "$$"
   ]
  },
  {
   "cell_type": "markdown",
   "id": "49c03b8b",
   "metadata": {},
   "source": [
    "$$\n",
    "-1\\leqslant x_i\\leqslant 1\n",
    "\\\\\n",
    "F^*=0\n",
    "\\\\\n",
    "X^*=\\left[ \\begin{matrix}\n",
    "\t0&\t\t0&\t\t\\cdots&\t\t0\\\\\n",
    "\\end{matrix} \\right] \n",
    "$$"
   ]
  },
  {
   "cell_type": "markdown",
   "id": "a5af34a7",
   "metadata": {},
   "source": [
    "# 39. Levy and Montalvo 1"
   ]
  },
  {
   "cell_type": "markdown",
   "id": "0a044f54",
   "metadata": {},
   "source": [
    "$$\n",
    "0.1\\left\\{ \\sin ^2\\left( 3\\pi x_1 \\right) +\\sum_{i=1}^D{\\left( x_i-1 \\right) ^2\\left[ 1+\\sin ^2\\left( 3\\pi x_i+1 \\right) \\right]}+\\left( x_D-1 \\right) ^2\\left[ 1+\\sin ^2\\left( 2\\pi x_D \\right) \\right] \\right\\} \n",
    "$$"
   ]
  },
  {
   "cell_type": "markdown",
   "id": "0497565f",
   "metadata": {},
   "source": [
    "$$\n",
    "-10\\leqslant X\\leqslant 10\n",
    "\\\\\n",
    "F^*=0\n",
    "\\\\\n",
    "X^*=\\left[ \\begin{matrix}\n",
    "\t1&\t\t1&\t\t\\cdots&\t\t1\\\\\n",
    "\\end{matrix} \\right] \n",
    "$$"
   ]
  },
  {
   "cell_type": "markdown",
   "id": "7dc48d18",
   "metadata": {},
   "source": [
    "# 40. Holzman"
   ]
  },
  {
   "cell_type": "markdown",
   "id": "43ba03b3",
   "metadata": {},
   "source": [
    "$$\n",
    "\\sum_{i=1}^D{ix_{i}^{4}}\n",
    "$$"
   ]
  },
  {
   "cell_type": "markdown",
   "id": "ca33f582",
   "metadata": {},
   "source": [
    "$$\n",
    "-10\\leqslant X\\leqslant 10\n",
    "\\\\\n",
    "F^*=0\n",
    "\\\\\n",
    "X^*=\\left[ \\begin{matrix}\n",
    "\t0&\t\t0&\t\t\\cdots&\t\t0\\\\\n",
    "\\end{matrix} \\right] \n",
    "$$"
   ]
  },
  {
   "cell_type": "markdown",
   "id": "daf8a4bc",
   "metadata": {},
   "source": [
    "# 41. Xin-She Yang 1"
   ]
  },
  {
   "cell_type": "markdown",
   "id": "d34b1cfe",
   "metadata": {},
   "source": [
    "$$\n",
    "\\left[ \\exp \\left( -\\sum_{i=1}^D{\\left( \\frac{x_i}{\\beta} \\right) ^{2m}} \\right) -2\\exp \\left( -\\sum_{i=1}^D{\\left( x_i-c \\right) ^2} \\right) \\right] \\prod_{=1}^D{\\cos ^2\\left( x_i \\right)}, m=5, \\beta =15, c=0\n",
    "$$"
   ]
  },
  {
   "cell_type": "markdown",
   "id": "2b4e846e",
   "metadata": {},
   "source": [
    "$$\n",
    "-20\\leqslant X\\leqslant 20\n",
    "\\\\\n",
    "F^*=-1\n",
    "\\\\\n",
    "X^*=\\left[ \\begin{matrix}\n",
    "\t0&\t\t0&\t\t\\cdots&\t\t0\\\\\n",
    "\\end{matrix} \\right] \n",
    "$$"
   ]
  },
  {
   "cell_type": "markdown",
   "id": "a1db8c96",
   "metadata": {},
   "source": [
    "# 42. Xin-She Yang 6"
   ]
  },
  {
   "cell_type": "markdown",
   "id": "128bfc33",
   "metadata": {},
   "source": [
    "$$\n",
    "\\left[ \\sum_{i=1}^D{\\sin ^2\\left( x_i \\right)}-\\exp \\left( -\\sum_{i=1}^D{x_{i}^{2}} \\right) \\right] \\exp \\left( -\\sum_{i=1}^D{\\sin ^2\\sqrt{\\left| x_i \\right|}} \\right) \n",
    "$$"
   ]
  },
  {
   "cell_type": "markdown",
   "id": "170a1057",
   "metadata": {},
   "source": [
    "$$\n",
    "-10\\leqslant X\\leqslant 10\n",
    "\\\\\n",
    "F^*=-1\n",
    "\\\\\n",
    "X^*=\\left[ \\begin{matrix}\n",
    "\t0&\t\t0&\t\t\\cdots&\t\t0\\\\\n",
    "\\end{matrix} \\right] \n",
    "$$"
   ]
  },
  {
   "cell_type": "markdown",
   "id": "a42c14b6",
   "metadata": {},
   "source": [
    "# 43. Beale"
   ]
  },
  {
   "cell_type": "markdown",
   "id": "bc8b9e34",
   "metadata": {},
   "source": [
    "$$\n",
    "\\left( 1.5-x_1+x_1x_2 \\right) ^2+\\left( 2.25-x_1+x_1x_{2}^{2} \\right) ^2+\\left( 2.625-x_1+x_1x_{2}^{3} \\right) ^2\n",
    "$$"
   ]
  },
  {
   "cell_type": "markdown",
   "id": "fb391f68",
   "metadata": {},
   "source": [
    "$$\n",
    "-4.5\\leqslant X\\leqslant 4.5, D=2\n",
    "\\\\\n",
    "F^*=0\n",
    "\\\\\n",
    "X^*=\\left[ \\begin{matrix}\n",
    "\t3&\t\t0.5\\\\\n",
    "\\end{matrix} \\right] \n",
    "$$"
   ]
  },
  {
   "cell_type": "markdown",
   "id": "12db8529",
   "metadata": {},
   "source": [
    "# 44. Shubert"
   ]
  },
  {
   "cell_type": "markdown",
   "id": "26d7b053",
   "metadata": {},
   "source": [
    "$$\n",
    "\\left[ \\sum_{i=1}^5{i\\cos \\left( i+1 \\right) x_1+i} \\right] \\left[ \\sum_{i=1}^5{i\\cos \\left( i+1 \\right) x_2+i} \\right] \n",
    "$$"
   ]
  },
  {
   "cell_type": "markdown",
   "id": "d7237cf8",
   "metadata": {},
   "source": [
    "$$\n",
    "-10\\leqslant X\\leqslant 10, D=2\n",
    "\\\\\n",
    "F^*=-186.7309\n",
    "\\\\\n",
    "X^*=\\left[ \\begin{matrix}\n",
    "\t-7.0835&\t\t4.8580\\\\\n",
    "\\end{matrix} \\right] \n",
    "$$"
   ]
  },
  {
   "cell_type": "markdown",
   "id": "bd54d080",
   "metadata": {},
   "source": [
    "# 45. Inverted Cosine Mixture"
   ]
  },
  {
   "cell_type": "markdown",
   "id": "b5161d9c",
   "metadata": {},
   "source": [
    "$$\n",
    "0.1D-0.1\\sum_{i=1}^D{\\cos \\left( 5\\pi x_i \\right)}-\\sum_{i=1}^D{x_{i}^{2}}\n",
    "$$"
   ]
  },
  {
   "cell_type": "markdown",
   "id": "fda0fd7b",
   "metadata": {},
   "source": [
    "$$\n",
    "-1\\leqslant x_i\\leqslant 1\n",
    "\\\\\n",
    "F^*=0\n",
    "\\\\\n",
    "X^*=\\left[ \\begin{matrix}\n",
    "\t0&\t\t0&\t\t\\cdots&\t\t0\\\\\n",
    "\\end{matrix} \\right] \n",
    "$$"
   ]
  },
  {
   "cell_type": "markdown",
   "id": "bf682293",
   "metadata": {},
   "source": [
    "# 46. Salomon"
   ]
  },
  {
   "cell_type": "markdown",
   "id": "51b649c0",
   "metadata": {},
   "source": [
    "$$\n",
    "1-\\cos \\left( 2\\pi \\left\\| x \\right\\| \\right) +0.1\\left\\| x \\right\\| , \\left\\| x \\right\\| =\\sqrt{\\sum_{i=1}^D{x_{i}^{2}}}\n",
    "$$"
   ]
  },
  {
   "cell_type": "markdown",
   "id": "1045053e",
   "metadata": {},
   "source": [
    "$$\n",
    "-100\\leqslant X\\leqslant 100\n",
    "\\\\\n",
    "F^*=0\n",
    "\\\\\n",
    "X^*=\\left[ \\begin{matrix}\n",
    "\t0&\t\t0&\t\t\\cdots&\t\t0\\\\\n",
    "\\end{matrix} \\right] \n",
    "$$"
   ]
  },
  {
   "cell_type": "markdown",
   "id": "289b42cf",
   "metadata": {},
   "source": [
    "# 47. Matyas"
   ]
  },
  {
   "cell_type": "markdown",
   "id": "90a97456",
   "metadata": {},
   "source": [
    "$$\n",
    "0.26\\left( x_{1}^{2}+x_{2}^{2} \\right) -0.48x_1x_2\n",
    "$$"
   ]
  },
  {
   "cell_type": "markdown",
   "id": "68b1cb89",
   "metadata": {},
   "source": [
    "$$\n",
    "-10\\leqslant X\\leqslant 10, D=2\n",
    "\\\\\n",
    "F^*=0\n",
    "\\\\\n",
    "X^*=\\left[ \\begin{matrix}\n",
    "\t0&\t\t0\\\\\n",
    "\\end{matrix} \\right] \n",
    "$$"
   ]
  },
  {
   "cell_type": "markdown",
   "id": "76172614",
   "metadata": {},
   "source": [
    "# 48. Leon"
   ]
  },
  {
   "cell_type": "markdown",
   "id": "76856741",
   "metadata": {},
   "source": [
    "$$\n",
    "100\\left( x_2-x_{1}^{3} \\right) ^2+\\left( x_1-1 \\right) ^2\n",
    "$$"
   ]
  },
  {
   "cell_type": "markdown",
   "id": "407ef82a",
   "metadata": {},
   "source": [
    "$$\n",
    "-1.2\\leqslant X\\leqslant 1.2, D=2\n",
    "\\\\\n",
    "F^*=0\n",
    "\\\\\n",
    "X^*=\\left[ \\begin{matrix}\n",
    "\t1&\t\t1\\\\\n",
    "\\end{matrix} \\right] \n",
    "$$"
   ]
  },
  {
   "cell_type": "markdown",
   "id": "66f9c1c4",
   "metadata": {},
   "source": [
    "# 49. Paviani"
   ]
  },
  {
   "cell_type": "markdown",
   "id": "d37005b4",
   "metadata": {},
   "source": [
    "$$\n",
    "\\sum_{i=1}^D{\\left[ \\ln ^2\\left( x_i-2 \\right) +\\ln ^2\\left( 10-x_i \\right) \\right]}-\\left( \\prod_{i=1}^{10}{x_{i}^{10}} \\right) ^{0.2}\n",
    "$$"
   ]
  },
  {
   "cell_type": "markdown",
   "id": "5b9c526e",
   "metadata": {},
   "source": [
    "$$\n",
    "2.001\\leqslant X\\leqslant 9.999\n",
    "\\\\\n",
    "F^*=-45.7784684040686\n",
    "\\\\\n",
    "X^*=\\left[ \\begin{matrix}\n",
    "\t9.350266&\t\t9.350266&\t\t\\cdots&\t\t9.350266\\\\\n",
    "\\end{matrix} \\right] \n",
    "$$"
   ]
  },
  {
   "cell_type": "markdown",
   "id": "11cfe4f6",
   "metadata": {},
   "source": [
    "# 50. Sinusoidal"
   ]
  },
  {
   "cell_type": "markdown",
   "id": "b2521d05",
   "metadata": {},
   "source": [
    "$$\n",
    "-\\left[ 2.5\\prod_{i=1}^D{\\sin \\left( x_i-\\frac{\\pi}{6} \\right)}+\\prod_{i=1}^D{\\sin \\left( 5x_i-\\frac{5\\pi}{6} \\right)} \\right] \n",
    "$$\n"
   ]
  },
  {
   "cell_type": "markdown",
   "id": "43644204",
   "metadata": {},
   "source": [
    "$$\n",
    "0\\leqslant X\\leqslant 180\n",
    "\\\\\n",
    "F^*=-3.5\n",
    "\\\\\n",
    "X^*=\\left[ \\begin{matrix}\n",
    "\t120&\t\t120&\t\t\\cdots&\t\t120\\\\\n",
    "\\end{matrix} \\right] \n",
    "$$"
   ]
  },
  {
   "cell_type": "markdown",
   "id": "694cabd5",
   "metadata": {},
   "source": [
    "# 51. k-tablet"
   ]
  },
  {
   "cell_type": "markdown",
   "id": "1a57d2bc",
   "metadata": {},
   "source": [
    "$$\n",
    "\\sum_{i=1}^K{x_{i}^{2}}+\\sum_{i=k+1}^D{\\left( 100x_i \\right) ^2}\n",
    "$$"
   ]
  },
  {
   "cell_type": "markdown",
   "id": "92c48571",
   "metadata": {},
   "source": [
    "$$\n",
    "-5.12\\leqslant x_i\\leqslant 5.12\n",
    "\\\\\n",
    "F^*=0\n",
    "\\\\\n",
    "X^*=\\left[ \\begin{matrix}\n",
    "\t0&\t\t0&\t\t\\cdots&\t\t0\\\\\n",
    "\\end{matrix} \\right] \n",
    "$$"
   ]
  },
  {
   "cell_type": "markdown",
   "id": "8769f204",
   "metadata": {},
   "source": [
    "# 52. Noncontinuous Rastrigin"
   ]
  },
  {
   "cell_type": "markdown",
   "id": "ebac8b6d",
   "metadata": {},
   "source": [
    "$$\n",
    "\\sum_{i=1}^D{\\left[ y_{i}^{2}-10\\cos \\left( 2\\pi y_i \\right) +10 \\right]}, y_i=\\begin{cases}\n",
    "\txi&\t\t\\left| x_i \\right|<0.5\\\\\n",
    "\t\\frac{round\\left( 2x_i \\right)}{2}&\t\t\\left| x_i \\right|\\geqslant 0.5\\\\\n",
    "\\end{cases}\n",
    "$$"
   ]
  },
  {
   "cell_type": "markdown",
   "id": "1f262c64",
   "metadata": {},
   "source": [
    "$$\n",
    "-5.12\\leqslant x_i\\leqslant 5.12\n",
    "\\\\\n",
    "F^*=0\n",
    "\\\\\n",
    "X^*=\\left[ \\begin{matrix}\n",
    "\t0&\t\t0&\t\t\\cdots&\t\t0\\\\\n",
    "\\end{matrix} \\right] \n",
    "$$"
   ]
  },
  {
   "cell_type": "markdown",
   "id": "1c6046f8",
   "metadata": {},
   "source": [
    "# 53. Fletcher"
   ]
  },
  {
   "cell_type": "markdown",
   "id": "72a79071",
   "metadata": {},
   "source": [
    "# 54. Levy"
   ]
  },
  {
   "cell_type": "markdown",
   "id": "d3ee2b31",
   "metadata": {},
   "source": [
    "# 55. Davis"
   ]
  },
  {
   "cell_type": "markdown",
   "id": "fe867245",
   "metadata": {},
   "source": [
    "$$\n",
    "\\left( x_{1}^{2}+x_{2}^{2} \\right) ^{0.25}\\left\\{ \\sin ^2\\left[ 50\\left( 3x_{1}^{2}+x_{2}^{2} \\right) ^{0.1} \\right] +1 \\right\\} \n",
    "$$"
   ]
  },
  {
   "cell_type": "markdown",
   "id": "398793c0",
   "metadata": {},
   "source": [
    "$$\n",
    "-100\\leqslant X\\leqslant 100, D=2\n",
    "\\\\\n",
    "F^*=0\n",
    "\\\\\n",
    "X^*=\\left[ \\begin{matrix}\n",
    "\t0&\t\t0\\\\\n",
    "\\end{matrix} \\right] \n",
    "$$"
   ]
  },
  {
   "cell_type": "markdown",
   "id": "105b3653",
   "metadata": {},
   "source": [
    "# 56. Pathological"
   ]
  },
  {
   "cell_type": "markdown",
   "id": "4f66f09e",
   "metadata": {},
   "source": [
    "$$\n",
    "\\sum_{i=1}^{D-1}{0.5+\\frac{\\sin ^2\\left( \\sqrt{100x_{i}^{2}+x_{i+1}^{2}} \\right) -0.5}{1+0.001\\left( x_{i}^{2}-2x_ix_{i+1}+x_{i+1}^{2} \\right) ^2}}\n",
    "$$\n"
   ]
  },
  {
   "cell_type": "markdown",
   "id": "e9385e62",
   "metadata": {},
   "source": [
    "$$\n",
    "-100\\leqslant X\\leqslant 100\n",
    "\\\\\n",
    "F^*=0\n",
    "\\\\\n",
    "X^*=\\left[ \\begin{matrix}\n",
    "\t0&\t\t0&\t\t\\cdots&\t\t0\\\\\n",
    "\\end{matrix} \\right] \n",
    "$$"
   ]
  },
  {
   "cell_type": "markdown",
   "id": "4a8cb612",
   "metadata": {},
   "source": [
    "# 57. Schwefel P2.20 (SumPower)"
   ]
  },
  {
   "cell_type": "markdown",
   "id": "e6d0f4f5",
   "metadata": {},
   "source": [
    "$$\n",
    "\\sum_{i=1}^D{\\left| x_i \\right|}\n",
    "$$"
   ]
  },
  {
   "cell_type": "markdown",
   "id": "2962b419",
   "metadata": {},
   "source": [
    "$$\n",
    "-100\\leqslant X\\leqslant 100\n",
    "\\\\\n",
    "F^*=0\n",
    "\\\\\n",
    "X^*=\\left[ \\begin{matrix}\n",
    "\t0&\t\t0&\t\t\\cdots&\t\t0\\\\\n",
    "\\end{matrix} \\right] \n",
    "$$"
   ]
  },
  {
   "cell_type": "markdown",
   "id": "247eee2b",
   "metadata": {},
   "source": [
    "# 58. Booth"
   ]
  },
  {
   "cell_type": "markdown",
   "id": "1bac3820",
   "metadata": {},
   "source": [
    "$$\n",
    "\\left( x_1+2x_2-7 \\right) ^2+\\left( 2x_1+x_2-5 \\right) ^2\n",
    "$$"
   ]
  },
  {
   "cell_type": "markdown",
   "id": "7adc7e4e",
   "metadata": {},
   "source": [
    "$$\n",
    "-10\\leqslant X\\leqslant 10, D=2\n",
    "\\\\\n",
    "F^*=0\n",
    "\\\\\n",
    "X^*=\\left[ \\begin{matrix}\n",
    "\t0&\t\t0\\\\\n",
    "\\end{matrix} \\right] \n",
    "$$"
   ]
  },
  {
   "cell_type": "markdown",
   "id": "8608e189",
   "metadata": {},
   "source": [
    "# 59. Zettl"
   ]
  },
  {
   "cell_type": "markdown",
   "id": "54bec8db",
   "metadata": {},
   "source": [
    "$$\n",
    "\\left( x_{1}^{2}+x_{2}^{2}-2x_1 \\right) ^2+0.25x_1\n",
    "$$"
   ]
  },
  {
   "cell_type": "markdown",
   "id": "e354f0ba",
   "metadata": {},
   "source": [
    "$$\n",
    "-1\\leqslant X\\leqslant 5, D=2\n",
    "\\\\\n",
    "F^*=-0.003791237220468656\n",
    "\\\\\n",
    "X^*=\\left[ \\begin{matrix}\n",
    "\t-0.02989597760285287&\t\t0\\\\\n",
    "\\end{matrix} \\right] \n",
    "$$"
   ]
  },
  {
   "cell_type": "markdown",
   "id": "2f3f2500",
   "metadata": {},
   "source": [
    "# 60. Powell's Quartic"
   ]
  },
  {
   "cell_type": "markdown",
   "id": "3b08614c",
   "metadata": {},
   "source": [
    "$$\n",
    "\\left( x_1+10x_2 \\right) ^2+5\\left( x_3+x_4 \\right) ^2+\\left( x_2+2x_3 \\right) ^4+10\\left( x_1+10x_4 \\right) ^4\n",
    "$$"
   ]
  },
  {
   "cell_type": "markdown",
   "id": "0d02d7e7",
   "metadata": {},
   "source": [
    "$$\n",
    "-10\\leqslant X\\leqslant 10, D=4\n",
    "\\\\\n",
    "F^*=0\n",
    "\\\\\n",
    "X^*=\\left[ \\begin{matrix}\n",
    "\t0&\t\t0&\t\t0&\t\t0\\\\\n",
    "\\end{matrix} \\right] \n",
    "$$"
   ]
  },
  {
   "cell_type": "markdown",
   "id": "31ed5443",
   "metadata": {},
   "source": [
    "# 61. Tablet"
   ]
  },
  {
   "cell_type": "markdown",
   "id": "c81b511f",
   "metadata": {},
   "source": [
    "$$\n",
    "10^6x_{1}^{2}+\\sum_{i=2}^D{x_{i}^{6}}\n",
    "$$"
   ]
  },
  {
   "cell_type": "markdown",
   "id": "980c11de",
   "metadata": {},
   "source": [
    "$$\n",
    "-1\\leqslant x_i\\leqslant 1\n",
    "\\\\\n",
    "F^*=0\n",
    "\\\\\n",
    "X^*=\\left[ \\begin{matrix}\n",
    "\t0&\t\t0&\t\t\\cdots&\t\t0\\\\\n",
    "\\end{matrix} \\right] \n",
    "$$"
   ]
  },
  {
   "cell_type": "markdown",
   "id": "3e80704a",
   "metadata": {},
   "source": [
    "# 62. Brown"
   ]
  },
  {
   "cell_type": "markdown",
   "id": "f756e72f",
   "metadata": {},
   "source": [
    "$$\n",
    "\\sum_{i=1}^{D-1}{\\left( x_{i}^{2} \\right) ^{\\left( x_{i+1}^{2}+1 \\right)}+\\left( x_{i+1}^{2} \\right) ^{\\left( x_{i}^{2}+1 \\right)}}\n",
    "$$\n"
   ]
  },
  {
   "cell_type": "markdown",
   "id": "d9bdab41",
   "metadata": {},
   "source": [
    "$$\n",
    "-1\\leqslant X\\leqslant 4\n",
    "\\\\\n",
    "F^*=0\n",
    "\\\\\n",
    "X^*=\\left[ \\begin{matrix}\n",
    "\t0&\t\t0&\t\t\\cdots&\t\t0\\\\\n",
    "\\end{matrix} \\right] \n",
    "$$"
   ]
  },
  {
   "cell_type": "markdown",
   "id": "db00773b",
   "metadata": {},
   "source": [
    "# 63. Chung Reynolds"
   ]
  },
  {
   "cell_type": "markdown",
   "id": "e3de1a3e",
   "metadata": {},
   "source": [
    "$$\n",
    "\\left( \\sum_{i=1}^D{\\left( x_{i}^{2} \\right)} \\right) ^2\n",
    "$$"
   ]
  },
  {
   "cell_type": "markdown",
   "id": "e6801e2b",
   "metadata": {},
   "source": [
    "$$\n",
    "-100\\leqslant X\\leqslant 100\n",
    "\\\\\n",
    "F^*=0\n",
    "\\\\\n",
    "X^*=\\left[ \\begin{matrix}\n",
    "\t0&\t\t0&\t\t\\cdots&\t\t0\\\\\n",
    "\\end{matrix} \\right] \n",
    "$$"
   ]
  },
  {
   "cell_type": "markdown",
   "id": "3b6f3928",
   "metadata": {},
   "source": [
    "# 64. Csendes"
   ]
  },
  {
   "cell_type": "markdown",
   "id": "6363e58e",
   "metadata": {},
   "source": [
    "$$\n",
    "\\begin{cases}\n",
    "\t\\sum_{i=1}^D{x_{i}^{6}\\left( 2+\\sin \\frac{1}{x_i} \\right)}&\t\t\\mathrm{if} \\prod_{i=1}^D{xi}\\ne 0\\\\\n",
    "\t0&\t\t\\mathrm{otherwise}\\\\\n",
    "\\end{cases}\n",
    "$$"
   ]
  },
  {
   "cell_type": "markdown",
   "id": "d770fef8",
   "metadata": {},
   "source": [
    "$$\n",
    "-1\\leqslant X\\leqslant 1\n",
    "\\\\\n",
    "F^*=0\n",
    "\\\\\n",
    "X^*=\\left[ \\begin{matrix}\n",
    "\t0&\t\t0&\t\t\\cdots&\t\t0\\\\\n",
    "\\end{matrix} \\right] \n",
    "$$"
   ]
  },
  {
   "cell_type": "markdown",
   "id": "811f3d21",
   "metadata": {},
   "source": [
    "# 65. Bohachevsky 2"
   ]
  },
  {
   "cell_type": "markdown",
   "id": "def78b87",
   "metadata": {},
   "source": [
    "$$\n",
    "x_{1}^{2}+2x_{2}^{2}-0.3\\cos \\left( 3\\pi x_1 \\right) \\cos \\left( 4\\pi x_2 \\right) +0.3\n",
    "$$"
   ]
  },
  {
   "cell_type": "markdown",
   "id": "c10e9b8a",
   "metadata": {},
   "source": [
    "$$\n",
    "-50\\leqslant X\\leqslant 50, D=2\n",
    "\\\\\n",
    "F^*=0\n",
    "\\\\\n",
    "X^*=\\left[ \\begin{matrix}\n",
    "\t0&\t\t0\\\\\n",
    "\\end{matrix} \\right] \n",
    "$$"
   ]
  },
  {
   "cell_type": "markdown",
   "id": "c2a2b3f2",
   "metadata": {},
   "source": [
    "# 66. Bohachevsky 3"
   ]
  },
  {
   "cell_type": "markdown",
   "id": "be439246",
   "metadata": {},
   "source": [
    "$$\n",
    "x_{1}^{2}+2x_{2}^{2}-0.3\\cos \\left( 3\\pi x_1+4\\pi x_2 \\right) \\cos \\left( 4\\pi x_2 \\right) +0.3\n",
    "$$\n"
   ]
  },
  {
   "cell_type": "markdown",
   "id": "21b14443",
   "metadata": {},
   "source": [
    "$$\n",
    "-50\\leqslant X\\leqslant 50, D=2\n",
    "\\\\\n",
    "F^*=0\n",
    "\\\\\n",
    "X^*=\\left[ \\begin{matrix}\n",
    "\t0&\t\t0\\\\\n",
    "\\end{matrix} \\right] \n",
    "$$"
   ]
  },
  {
   "cell_type": "markdown",
   "id": "0e0ce5b0",
   "metadata": {},
   "source": [
    "# 67. Colville"
   ]
  },
  {
   "cell_type": "markdown",
   "id": "462d7b94",
   "metadata": {},
   "source": [
    "$$\n",
    "\\left[ 100\\left( x_1-x_2 \\right) \\right] ^2+\\left( 1-x_1 \\right) ^2+90\\left( x_4-x_{3}^{2} \\right) ^2+\\left( 1-x_3 \\right) ^2+10.1\\left[ \\left( x_2-1 \\right) ^2+\\left( x_4-1 \\right) ^2 \\right] +19.8\\left( x_2-1 \\right) \\left( x_4-1 \\right) \n",
    "$$\n"
   ]
  },
  {
   "cell_type": "markdown",
   "id": "a83c16a1",
   "metadata": {},
   "source": [
    "$$\n",
    "-10\\leqslant X\\leqslant 10, D=4\n",
    "\\\\\n",
    "F^*=0\n",
    "\\\\\n",
    "X^*=\\left[ \\begin{matrix}\n",
    "\t1&\t\t1&\t\t1&\t\t1\\\\\n",
    "\\end{matrix} \\right] \n",
    "$$"
   ]
  },
  {
   "cell_type": "markdown",
   "id": "0ecb5e07",
   "metadata": {},
   "source": [
    "# 68. Bartels Conn"
   ]
  },
  {
   "cell_type": "markdown",
   "id": "35dba168",
   "metadata": {},
   "source": [
    "$$\n",
    "\\left| x_{1}^{2}+x_{2}^{2}+x_1x_2 \\right|+\\left| \\sin \\left( x_1 \\right) \\right|+\\left| \\cos \\left( x_2 \\right) \\right|\n",
    "$$"
   ]
  },
  {
   "cell_type": "markdown",
   "id": "fa61f31d",
   "metadata": {},
   "source": [
    "$$\n",
    "-500\\leqslant X\\leqslant 500, D=2\n",
    "\\\\\n",
    "F^*=1\n",
    "\\\\\n",
    "X^*=\\left[ \\begin{matrix}\n",
    "\t0&\t\t0\\\\\n",
    "\\end{matrix} \\right] \n",
    "$$"
   ]
  },
  {
   "cell_type": "markdown",
   "id": "73bd8f24",
   "metadata": {},
   "source": [
    "# 69. Bird"
   ]
  },
  {
   "cell_type": "markdown",
   "id": "79343dc2",
   "metadata": {},
   "source": [
    "$$\n",
    "\\left( x_1-x_2 \\right) ^2+\\sin \\left( x_1 \\right) \\exp \\left( \\left[ 1-\\cos \\left( x_2 \\right) \\right] ^2 \\right) +\\cos \\left( x_2 \\right) \\exp \\left( \\left[ 1-\\sin \\left( x_1 \\right) \\right] ^2 \\right) \n",
    "$$"
   ]
  },
  {
   "cell_type": "markdown",
   "id": "d66eb0f6",
   "metadata": {},
   "source": [
    "$$\n",
    "-2\\pi \\leqslant X\\leqslant 2\\pi , D=2\n",
    "\\\\\n",
    "F^*=-106.7645367198034\n",
    "\\\\\n",
    "X^*=\\left[ \\begin{matrix}\n",
    "\t4.701055751981055&\t\t3.152946019601391\\\\\n",
    "\\end{matrix} \\right] , \\left[ \\begin{matrix}\n",
    "\t-1.582142172055011&\t\t-3.130246799635430\\\\\n",
    "\\end{matrix} \\right] \n",
    "$$"
   ]
  },
  {
   "cell_type": "code",
   "execution_count": null,
   "id": "4cde271a",
   "metadata": {},
   "outputs": [],
   "source": []
  }
 ],
 "metadata": {
  "kernelspec": {
   "display_name": "Python 3 (ipykernel)",
   "language": "python",
   "name": "python3"
  },
  "language_info": {
   "codemirror_mode": {
    "name": "ipython",
    "version": 3
   },
   "file_extension": ".py",
   "mimetype": "text/x-python",
   "name": "python",
   "nbconvert_exporter": "python",
   "pygments_lexer": "ipython3",
   "version": "3.7.11"
  }
 },
 "nbformat": 4,
 "nbformat_minor": 5
}
